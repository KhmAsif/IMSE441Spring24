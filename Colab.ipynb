{
  "nbformat": 4,
  "nbformat_minor": 0,
  "metadata": {
    "colab": {
      "provenance": [],
      "mount_file_id": "16AzL_wcFUoM_LX1NqEMyU9SZiZp07ij_",
      "authorship_tag": "ABX9TyNGzR9YtZ3CR6GF0uv4VQsr",
      "include_colab_link": true
    },
    "kernelspec": {
      "name": "python3",
      "display_name": "Python 3"
    },
    "language_info": {
      "name": "python"
    },
    "gpuClass": "standard"
  },
  "cells": [
    {
      "cell_type": "markdown",
      "metadata": {
        "id": "view-in-github",
        "colab_type": "text"
      },
      "source": [
        "<a href=\"https://colab.research.google.com/github/KhmAsif/IMSE441Spring24/blob/main/Colab.ipynb\" target=\"_parent\"><img src=\"https://colab.research.google.com/assets/colab-badge.svg\" alt=\"Open In Colab\"/></a>"
      ]
    },
    {
      "cell_type": "code",
      "source": [
        "from google.colab import drive\n",
        "drive.mount('/content/drive')"
      ],
      "metadata": {
        "colab": {
          "base_uri": "https://localhost:8080/"
        },
        "id": "pW-aSj-A3jsO",
        "outputId": "31bc7c3a-349c-48ae-f4ee-a11b4b29dff1"
      },
      "execution_count": null,
      "outputs": [
        {
          "output_type": "stream",
          "name": "stdout",
          "text": [
            "Mounted at /content/drive\n"
          ]
        }
      ]
    },
    {
      "cell_type": "code",
      "source": [
        "import pandas as pd\n",
        "Dam=pd.read_csv('/content/drive/MyDrive/IMSE_441/Dams_2023.csv')\n",
        "Dam"
      ],
      "metadata": {
        "id": "sLqFp6Tx3g1z"
      },
      "execution_count": null,
      "outputs": []
    },
    {
      "cell_type": "code",
      "source": [
        "Dam['Latitude'].describe()"
      ],
      "metadata": {
        "colab": {
          "base_uri": "https://localhost:8080/"
        },
        "id": "alAAJTp86-Sz",
        "outputId": "190d0215-6579-4513-a9a8-ef4a5cf939a2"
      },
      "execution_count": null,
      "outputs": [
        {
          "output_type": "execute_result",
          "data": {
            "text/plain": [
              "count    73999.000000\n",
              "mean        38.535344\n",
              "std          4.951658\n",
              "min         13.360500\n",
              "25%         34.500000\n",
              "50%         38.986600\n",
              "75%         41.976600\n",
              "max         71.266600\n",
              "Name: Latitude, dtype: float64"
            ]
          },
          "metadata": {},
          "execution_count": 7
        }
      ]
    }
  ]
}