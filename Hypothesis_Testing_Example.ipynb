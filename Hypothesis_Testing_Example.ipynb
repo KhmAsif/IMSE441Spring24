{
  "nbformat": 4,
  "nbformat_minor": 0,
  "metadata": {
    "colab": {
      "provenance": [],
      "authorship_tag": "ABX9TyO5FdU4+J3MgNcqt3LGxxDf",
      "include_colab_link": true
    },
    "kernelspec": {
      "name": "python3",
      "display_name": "Python 3"
    },
    "language_info": {
      "name": "python"
    }
  },
  "cells": [
    {
      "cell_type": "markdown",
      "metadata": {
        "id": "view-in-github",
        "colab_type": "text"
      },
      "source": [
        "<a href=\"https://colab.research.google.com/github/KhmAsif/IMSE441Spring24/blob/main/Hypothesis_Testing_Example.ipynb\" target=\"_parent\"><img src=\"https://colab.research.google.com/assets/colab-badge.svg\" alt=\"Open In Colab\"/></a>"
      ]
    },
    {
      "cell_type": "markdown",
      "source": [
        "# Hypothesis Testing for 1 sample"
      ],
      "metadata": {
        "id": "1xSApdNCCiwr"
      }
    },
    {
      "cell_type": "code",
      "execution_count": null,
      "metadata": {
        "id": "CIzgN4z_AX_9"
      },
      "outputs": [],
      "source": [
        "import numpy as np\n",
        "import matplotlib.pyplot as plt\n",
        "import scipy.stats as stats\n",
        "from scipy.stats import ttest_1samp\n"
      ]
    },
    {
      "cell_type": "code",
      "source": [
        "#Example for Beerios\n",
        "#H0= 9 grams, H1 /= 9\n",
        "beerios = [9.16, 8.57, 9.54, 8.70, 9.33, 9.43, 8.39, 9.47, 8.66, 9.01]\n"
      ],
      "metadata": {
        "id": "ra8NQYhZAboB"
      },
      "execution_count": null,
      "outputs": []
    },
    {
      "cell_type": "code",
      "source": [
        "#Normality testing\n",
        "%pip install pingouin\n",
        "import pingouin as pg"
      ],
      "metadata": {
        "id": "TI6tLBVXAfJ6"
      },
      "execution_count": null,
      "outputs": []
    },
    {
      "cell_type": "code",
      "source": [
        "pg.qqplot(beerios)\n",
        "plt.show()"
      ],
      "metadata": {
        "id": "FRYt1IQ1AiI6"
      },
      "execution_count": null,
      "outputs": []
    },
    {
      "cell_type": "code",
      "source": [
        "ttest_1samp(a=beerios, popmean= 9)"
      ],
      "metadata": {
        "id": "xCjGNrx_AmhZ"
      },
      "execution_count": null,
      "outputs": []
    },
    {
      "cell_type": "code",
      "source": [
        "t_stat, p_value= ttest_1samp(a=beerios, popmean= 9)"
      ],
      "metadata": {
        "id": "RVsqTPUTApix"
      },
      "execution_count": null,
      "outputs": []
    },
    {
      "cell_type": "code",
      "source": [
        "if p_value < 0.05:\n",
        "  print(\"We reject the null hypothesis\")\n",
        "\n",
        "else:\n",
        "  print(\"We fail to rejet the null hypothesis\")"
      ],
      "metadata": {
        "id": "X6eXxjaNAwFZ"
      },
      "execution_count": null,
      "outputs": []
    },
    {
      "cell_type": "code",
      "source": [
        "# Confidence Interval check\n",
        "CI= stats.ttest_1samp(beerios,9).confidence_interval(confidence_level=0.95)\n",
        "CI"
      ],
      "metadata": {
        "id": "DQ8xDMw4A1ca"
      },
      "execution_count": null,
      "outputs": []
    },
    {
      "cell_type": "code",
      "source": [
        "#Example Golf club\n",
        "#Hypothesis  H0= 0.82, H1 > 0.82\n",
        "Club= [0.8411, 0.8191, 0.8182, 0.8125, 0.8750, 0.8580, 0.8532, 0.8483, 0.8276, 0.7983, 0.8042, 0.8730, 0.8282, 0.8359, 0.8660]\n"
      ],
      "metadata": {
        "id": "B1DnujcHA5kZ"
      },
      "execution_count": null,
      "outputs": []
    },
    {
      "cell_type": "code",
      "source": [
        "#normality check\n",
        "pg.qqplot(Club)\n",
        "plt.show()"
      ],
      "metadata": {
        "id": "KVxzNPtXA925"
      },
      "execution_count": null,
      "outputs": []
    },
    {
      "cell_type": "code",
      "source": [
        "#t_test\n",
        "ttest_1samp(a=Club, popmean= 0.82)"
      ],
      "metadata": {
        "id": "klqu0lOPBBqy"
      },
      "execution_count": null,
      "outputs": []
    },
    {
      "cell_type": "code",
      "source": [
        "# Confidence Interval check\n",
        "CI= stats.ttest_1samp(Club,0.82).confidence_interval(confidence_level=0.95)\n",
        "CI"
      ],
      "metadata": {
        "id": "GxVr3GCnBFAa"
      },
      "execution_count": null,
      "outputs": []
    },
    {
      "cell_type": "code",
      "source": [
        "t_stat, p_value= ttest_1samp(a=Club, popmean= 0.82)\n",
        "if p_value < 0.05:\n",
        "  print(\"We reject the null hypothesis\")\n",
        "else:\n",
        "  print(\"We fail to rejet the null hypothesis\")"
      ],
      "metadata": {
        "id": "LBMPHX_1BIsZ"
      },
      "execution_count": null,
      "outputs": []
    },
    {
      "cell_type": "markdown",
      "source": [
        "# Normal approximation of Poisson distribution"
      ],
      "metadata": {
        "id": "m1FmG49tCdpZ"
      }
    },
    {
      "cell_type": "code",
      "source": [
        "import scipy.stats as stats\n",
        "\n",
        "pop= stats.poisson.rvs(loc=18, mu= 35, size= 1500)\n",
        "samp_1= stats.poisson.rvs(loc=18, mu= 35, size= 60)\n",
        "samp_2= stats.poisson.rvs(loc=18, mu= 30, size= 60)"
      ],
      "metadata": {
        "id": "FcUlJioTBOxJ"
      },
      "execution_count": null,
      "outputs": []
    },
    {
      "cell_type": "code",
      "source": [
        "#normality check\n",
        "pg.qqplot(samp_1)\n",
        "plt.show()"
      ],
      "metadata": {
        "id": "R1Yoze-BBmDp"
      },
      "execution_count": null,
      "outputs": []
    },
    {
      "cell_type": "code",
      "source": [
        "#normality check\n",
        "pg.qqplot(samp_2)\n",
        "plt.show()"
      ],
      "metadata": {
        "id": "rffjHLxXBpHp"
      },
      "execution_count": null,
      "outputs": []
    },
    {
      "cell_type": "markdown",
      "source": [
        "Sample with same mean as population"
      ],
      "metadata": {
        "id": "bCjobIAYB-F7"
      }
    },
    {
      "cell_type": "code",
      "source": [
        "t_stat, p_value= ttest_1samp(a=samp_1, popmean= pop.mean())\n",
        "if p_value < 0.05:\n",
        "  print(\"We reject the null hypothesis\")\n",
        "else:\n",
        "  print(\"We fail to rejet the null hypothesis\")"
      ],
      "metadata": {
        "id": "31gy9kQlBr0R"
      },
      "execution_count": null,
      "outputs": []
    },
    {
      "cell_type": "markdown",
      "source": [
        "Sample with same mean as population"
      ],
      "metadata": {
        "id": "t71-kRpvCCfs"
      }
    },
    {
      "cell_type": "code",
      "source": [
        "t_stat, p_value= ttest_1samp(a=samp_2, popmean= pop.mean())\n",
        "if p_value < 0.05:\n",
        "  print(\"We reject the null hypothesis\")\n",
        "else:\n",
        "  print(\"We fail to rejet the null hypothesis\")"
      ],
      "metadata": {
        "id": "zgHFRiXPB5Jh"
      },
      "execution_count": null,
      "outputs": []
    },
    {
      "cell_type": "markdown",
      "source": [
        "# Choice of sample size"
      ],
      "metadata": {
        "id": "LZZicgisCUcZ"
      }
    },
    {
      "cell_type": "code",
      "source": [
        "from statsmodels.stats.power import TTestIndPower"
      ],
      "metadata": {
        "id": "emAOcJBECGFb"
      },
      "execution_count": null,
      "outputs": []
    },
    {
      "cell_type": "code",
      "source": [
        "# Initiate the power analysis\n",
        "power_analysis = TTestIndPower()\n",
        "# Calculate sample size\n",
        "sample_size = power_analysis.solve_power(effect_size = 0.81, alpha = 0.05, power = 0.9, alternative = 'larger')#effect size= d ratio, #alternative= 'two-sided', 'larger', 'smaller'\n",
        "# Print results\n",
        "print('The sample size needed for each group is', round(sample_size))"
      ],
      "metadata": {
        "id": "A9W8tCRsCr6g"
      },
      "execution_count": null,
      "outputs": []
    },
    {
      "cell_type": "code",
      "source": [
        "# Calculate Power\n",
        "power = power_analysis.power(effect_size = 0.81, alpha = 0.05, nobs1= 27, alternative = 'larger')#nobs1= sample size\n",
        "# Print results\n",
        "print('The power for the hypothesis testing is', round(power, 2))\n"
      ],
      "metadata": {
        "id": "GQd2kFWUCvbQ"
      },
      "execution_count": null,
      "outputs": []
    },
    {
      "cell_type": "markdown",
      "source": [
        "# Hypothesis testing for 2 samples Variance Equal"
      ],
      "metadata": {
        "id": "MDCWLCZiC0ZR"
      }
    },
    {
      "cell_type": "markdown",
      "source": [
        "Two Sample test Variance equal"
      ],
      "metadata": {
        "id": "K4h-Vg_MECCJ"
      }
    },
    {
      "cell_type": "code",
      "source": [
        "#Two different catalyst performance test. Sample 2 is cheaper. Will it be a good decision to catalyst 1 by catalyst 2?\n",
        "Samp_1= 91.5, 94.18, 92.18, 95.39, 91.79, 89.07, 94.72, 89.21\n",
        "Samp_2= 89.19, 90.95, 90.46,\t93.21,\t97.19,\t97.04,\t91.07,\t92.75\n",
        "df1=len(Samp_1)-1\n",
        "df2=len(Samp_2)-1\n"
      ],
      "metadata": {
        "id": "FeZJgp8-C7Cx"
      },
      "execution_count": null,
      "outputs": []
    },
    {
      "cell_type": "code",
      "source": [
        "#Normality check\n",
        "pg.qqplot(Samp_1)\n",
        "plt.show()"
      ],
      "metadata": {
        "id": "eTErIRR0C_-Z"
      },
      "execution_count": null,
      "outputs": []
    },
    {
      "cell_type": "code",
      "source": [
        "#Normality check\n",
        "pg.qqplot(Samp_2)\n",
        "plt.show()\n"
      ],
      "metadata": {
        "id": "NYeEGO9nDExx"
      },
      "execution_count": null,
      "outputs": []
    },
    {
      "cell_type": "code",
      "source": [
        "#Equal Variance check"
      ],
      "metadata": {
        "id": "eq6W7gwJ9uUG"
      },
      "execution_count": null,
      "outputs": []
    },
    {
      "cell_type": "code",
      "source": [
        "np.var(Samp_1)"
      ],
      "metadata": {
        "colab": {
          "base_uri": "https://localhost:8080/"
        },
        "id": "8A1p471x2HXA",
        "outputId": "3ca02226-24a7-41ca-f239-143da7b7de9d"
      },
      "execution_count": null,
      "outputs": [
        {
          "output_type": "execute_result",
          "data": {
            "text/plain": [
              "4.977275000000013"
            ]
          },
          "metadata": {},
          "execution_count": 17
        }
      ]
    },
    {
      "cell_type": "code",
      "source": [
        "np.var(Samp_2)"
      ],
      "metadata": {
        "colab": {
          "base_uri": "https://localhost:8080/"
        },
        "id": "8diRHWoR2LWQ",
        "outputId": "0628ecbd-a33f-4d18-e108-0a1567baea24"
      },
      "execution_count": null,
      "outputs": [
        {
          "output_type": "execute_result",
          "data": {
            "text/plain": [
              "7.788368750000012"
            ]
          },
          "metadata": {},
          "execution_count": 18
        }
      ]
    },
    {
      "cell_type": "code",
      "source": [
        "F=np.var(Samp_2)/np.var(Samp_1)\n",
        "alpha=0.05\n",
        "P_value=1-stats.f.cdf(F, df1, df2)\n",
        "if P_value > alpha:\n",
        "  print('Fail Reject null hypothesis: Variance equal')\n",
        "else :\n",
        "  print ('Reject null hypothesis: Variance not equal')"
      ],
      "metadata": {
        "colab": {
          "base_uri": "https://localhost:8080/"
        },
        "id": "JzvZT-pDyeP6",
        "outputId": "b552c2af-530c-4725-c8cd-a1d881d82818"
      },
      "execution_count": null,
      "outputs": [
        {
          "output_type": "stream",
          "name": "stdout",
          "text": [
            "Fail Reject null hypothesis: Variance equal\n"
          ]
        }
      ]
    },
    {
      "cell_type": "code",
      "source": [
        "#Hypothesis test\n",
        "ttest_ind(a=Samp_1, b= Samp_2, equal_var= True)"
      ],
      "metadata": {
        "id": "qVVA_J6xDIOR"
      },
      "execution_count": null,
      "outputs": []
    },
    {
      "cell_type": "markdown",
      "source": [
        "# Two Sample test Variance Unequal"
      ],
      "metadata": {
        "id": "59qAEbpwD82t"
      }
    },
    {
      "cell_type": "code",
      "source": [
        "# two sample test Variance unequal\n",
        "# Drinking water Arsenic concentration in Arizona\n",
        "Samp_11 = 3, 7, 25, 10, 15, 6, 12, 25, 15, 7\n",
        "Samp_21 = 48, 44, 40, 38, 33, 21, 20, 12, 1, 18\n",
        "df1=len(Samp_11)-1\n",
        "df2=len(Samp_21)-1"
      ],
      "metadata": {
        "id": "Ox-Qhy8kDRM4"
      },
      "execution_count": null,
      "outputs": []
    },
    {
      "cell_type": "code",
      "source": [
        "\n",
        "#Normality check\n",
        "pg.qqplot(Samp_1)\n",
        "plt.show()"
      ],
      "metadata": {
        "id": "yNIfSSw3DVVY"
      },
      "execution_count": null,
      "outputs": []
    },
    {
      "cell_type": "code",
      "source": [
        "#Normality check\n",
        "pg.qqplot(Samp_2)\n",
        "plt.show()"
      ],
      "metadata": {
        "id": "VCIsY4gADYCB"
      },
      "execution_count": null,
      "outputs": []
    },
    {
      "cell_type": "code",
      "source": [
        "#Equal Variance check"
      ],
      "metadata": {
        "id": "DFhXdvN9-D0o"
      },
      "execution_count": null,
      "outputs": []
    },
    {
      "cell_type": "code",
      "source": [
        "np.var(Samp_11)"
      ],
      "metadata": {
        "colab": {
          "base_uri": "https://localhost:8080/"
        },
        "id": "x97ntQwI-Jee",
        "outputId": "51f6e4fa-811a-449b-cb50-35a20f8e09fa"
      },
      "execution_count": null,
      "outputs": [
        {
          "output_type": "execute_result",
          "data": {
            "text/plain": [
              "52.45"
            ]
          },
          "metadata": {},
          "execution_count": 46
        }
      ]
    },
    {
      "cell_type": "code",
      "source": [
        "np.var(Samp_21)"
      ],
      "metadata": {
        "colab": {
          "base_uri": "https://localhost:8080/"
        },
        "id": "VZnJs52e-Nll",
        "outputId": "31868a79-541a-46ab-8934-bfeff109dd6b"
      },
      "execution_count": null,
      "outputs": [
        {
          "output_type": "execute_result",
          "data": {
            "text/plain": [
              "212.05"
            ]
          },
          "metadata": {},
          "execution_count": 47
        }
      ]
    },
    {
      "cell_type": "code",
      "source": [
        "F=np.var(Samp_21)/np.var(Samp_11)\n",
        "alpha=0.05\n",
        "P_value=1-stats.f.cdf(F, df1, df2)\n",
        "if P_value > alpha:\n",
        "  print('Fail Reject null hypothesis: Variance equal')\n",
        "else :\n",
        "  print ('Reject null hypothesis: Variance not equal')"
      ],
      "metadata": {
        "colab": {
          "base_uri": "https://localhost:8080/"
        },
        "id": "83bWM3yc3Vuj",
        "outputId": "bdd1c465-860b-4e85-b62b-d1d7c4172a6c"
      },
      "execution_count": null,
      "outputs": [
        {
          "output_type": "stream",
          "name": "stdout",
          "text": [
            "Reject null hypothesis: Variance not equal\n"
          ]
        }
      ]
    },
    {
      "cell_type": "code",
      "source": [
        "stats.f.cdf(F, df1, df2)"
      ],
      "metadata": {
        "colab": {
          "base_uri": "https://localhost:8080/"
        },
        "id": "I42CyVGK6-rS",
        "outputId": "e8b118fa-c327-44fd-cd2b-e0bd166e423d"
      },
      "execution_count": null,
      "outputs": [
        {
          "output_type": "execute_result",
          "data": {
            "text/plain": [
              "0.9753198165610896"
            ]
          },
          "metadata": {},
          "execution_count": 41
        }
      ]
    },
    {
      "cell_type": "code",
      "source": [
        "F"
      ],
      "metadata": {
        "colab": {
          "base_uri": "https://localhost:8080/"
        },
        "id": "3cC6Nuyr4aAg",
        "outputId": "82012d76-5a2f-40df-cde1-3904e83fb62f"
      },
      "execution_count": null,
      "outputs": [
        {
          "output_type": "execute_result",
          "data": {
            "text/plain": [
              "4.042897998093422"
            ]
          },
          "metadata": {},
          "execution_count": 40
        }
      ]
    },
    {
      "cell_type": "code",
      "source": [
        "P_value"
      ],
      "metadata": {
        "colab": {
          "base_uri": "https://localhost:8080/"
        },
        "id": "LWOVDx9I37UB",
        "outputId": "2e0562be-e1ba-46a6-bb3b-d99ef6351d0b"
      },
      "execution_count": null,
      "outputs": [
        {
          "output_type": "execute_result",
          "data": {
            "text/plain": [
              "0.02468018343891043"
            ]
          },
          "metadata": {},
          "execution_count": 39
        }
      ]
    },
    {
      "cell_type": "code",
      "source": [
        "#Hypothesis test\n",
        "ttest_ind(a=Samp_1, b= Samp_2, equal_var= False)"
      ],
      "metadata": {
        "id": "r4qOK1UeDa7a"
      },
      "execution_count": null,
      "outputs": []
    },
    {
      "cell_type": "markdown",
      "source": [
        "# Paired t test"
      ],
      "metadata": {
        "id": "loHxcI0dEPRh"
      }
    },
    {
      "cell_type": "code",
      "source": [
        "from scipy.stats import ttest_rel"
      ],
      "metadata": {
        "id": "9jKTfTgGDf7A"
      },
      "execution_count": null,
      "outputs": []
    },
    {
      "cell_type": "code",
      "source": [
        "#Test of shear strength for same steel blades by two different methods\n",
        "Samp_1= 1.186, 1.151, 1.322, 1.339, 1.200, 1.402, 1.365, 1.537, 1.559\n",
        "Samp_2= 1.061, 0.992, 1.063, 1.062, 1.065, 1.178, 1.037, 1.086, 1.052\n"
      ],
      "metadata": {
        "id": "10wXeSmjDjbQ"
      },
      "execution_count": null,
      "outputs": []
    },
    {
      "cell_type": "code",
      "source": [
        "#Normality check\n",
        "pg.qqplot(Samp_1)\n",
        "plt.show()"
      ],
      "metadata": {
        "id": "t3Qm6-s2Dmhp"
      },
      "execution_count": null,
      "outputs": []
    },
    {
      "cell_type": "code",
      "source": [
        "\n",
        "#Normality check\n",
        "pg.qqplot(Samp_2)\n",
        "plt.show()"
      ],
      "metadata": {
        "id": "j-TU48QMDqAB"
      },
      "execution_count": null,
      "outputs": []
    },
    {
      "cell_type": "code",
      "source": [
        "#Hypothesis test for Paired samples\n",
        "ttest_rel(a=Samp_1, b= Samp_2)"
      ],
      "metadata": {
        "id": "Qu72pm1DDuKQ"
      },
      "execution_count": null,
      "outputs": []
    },
    {
      "cell_type": "code",
      "source": [
        "#confidence interval for Paired samples\n",
        "ttest_rel(a=Samp_1, b= Samp_2).confidence_interval(confidence_level=.95)\n"
      ],
      "metadata": {
        "id": "GL1_28Q5Dxro"
      },
      "execution_count": null,
      "outputs": []
    }
  ]
}