{
  "nbformat": 4,
  "nbformat_minor": 0,
  "metadata": {
    "colab": {
      "provenance": [],
      "authorship_tag": "ABX9TyNTjoKs7JeCIMH2x7zsxFZP",
      "include_colab_link": true
    },
    "kernelspec": {
      "name": "python3",
      "display_name": "Python 3"
    },
    "language_info": {
      "name": "python"
    }
  },
  "cells": [
    {
      "cell_type": "markdown",
      "metadata": {
        "id": "view-in-github",
        "colab_type": "text"
      },
      "source": [
        "<a href=\"https://colab.research.google.com/github/KhmAsif/IMSE441Spring24/blob/main/Lab_3_Discrete_Distribution.ipynb\" target=\"_parent\"><img src=\"https://colab.research.google.com/assets/colab-badge.svg\" alt=\"Open In Colab\"/></a>"
      ]
    },
    {
      "cell_type": "code",
      "source": [
        "import numpy as np\n",
        "import pandas as pd\n",
        "import matplotlib.pyplot as plt"
      ],
      "metadata": {
        "id": "5LFDbO7W0RQm"
      },
      "execution_count": null,
      "outputs": []
    },
    {
      "cell_type": "markdown",
      "source": [
        "# **Uniform Distribution**"
      ],
      "metadata": {
        "id": "m0dB0k8O0xob"
      }
    },
    {
      "cell_type": "code",
      "source": [
        "import scipy.stats as st\n",
        "from scipy.stats import uniform"
      ],
      "metadata": {
        "id": "euBriWS5SM_z"
      },
      "execution_count": null,
      "outputs": []
    },
    {
      "cell_type": "markdown",
      "source": [
        "**Rolling a Dice**"
      ],
      "metadata": {
        "id": "NfZBzodj3YJK"
      }
    },
    {
      "cell_type": "code",
      "source": [
        "L=1\n",
        "U=6\n",
        "\n",
        "X = np.arange(L, U+1)\n",
        "\n",
        "print(X)"
      ],
      "metadata": {
        "id": "RvHXN8ai1v4s"
      },
      "execution_count": null,
      "outputs": []
    },
    {
      "cell_type": "markdown",
      "source": [
        "**PMF**"
      ],
      "metadata": {
        "id": "O7F9jQa_3im-"
      }
    },
    {
      "cell_type": "code",
      "source": [
        "D_uni_dist = st.randint(L, U+1)\n",
        "D_uni_pmf = D_uni_dist.pmf(X)\n",
        "\n",
        "D_uni_pmf"
      ],
      "metadata": {
        "id": "QTACUqJK2U6E"
      },
      "execution_count": null,
      "outputs": []
    },
    {
      "cell_type": "code",
      "source": [
        "plt.plot(X, D_uni_pmf,'bo', ms=10)\n",
        "plt.vlines(X,  0, D_uni_pmf, colors='b', lw=5)\n",
        "plt.xlabel('X')\n",
        "plt.ylabel('Probability')\n",
        "plt.show()"
      ],
      "metadata": {
        "id": "5TR4D3W-3VRe"
      },
      "execution_count": null,
      "outputs": []
    },
    {
      "cell_type": "markdown",
      "source": [
        "**CDF**"
      ],
      "metadata": {
        "id": "g4PrAkeAPs6_"
      }
    },
    {
      "cell_type": "code",
      "source": [
        "D_uni_cdf = D_uni_dist.cdf(X)\n",
        "\n",
        "print(D_uni_cdf)"
      ],
      "metadata": {
        "id": "y2E6KFKLKmm3"
      },
      "execution_count": null,
      "outputs": []
    },
    {
      "cell_type": "code",
      "source": [
        "plt.plot(X, D_uni_cdf, ms=8)\n",
        "plt.xlim=(0,10)\n",
        "plt.xlabel('X')\n",
        "plt.ylabel('Cumulative Probability')\n",
        "plt.show()"
      ],
      "metadata": {
        "id": "rjfjn_QJKo73"
      },
      "execution_count": null,
      "outputs": []
    },
    {
      "cell_type": "markdown",
      "source": [
        "**Random data**"
      ],
      "metadata": {
        "id": "4KOC0Df6PpGI"
      }
    },
    {
      "cell_type": "code",
      "source": [
        "data_U=uniform.rvs(size=100,loc=0,scale=20)\n",
        "data_U"
      ],
      "metadata": {
        "id": "LbhwvnHc_ocC"
      },
      "execution_count": null,
      "outputs": []
    },
    {
      "cell_type": "code",
      "source": [
        "uniform.pdf(x=10.55,loc=0,scale=20)"
      ],
      "metadata": {
        "id": "ljjZVXJHAqI0"
      },
      "execution_count": null,
      "outputs": []
    },
    {
      "cell_type": "code",
      "source": [
        "x=np.linspace(0,20,100)\n",
        "plt.plot(x, uniform.pdf(x,loc=0,scale=20), lw=5, alpha=0.6)\n",
        "plt.show()"
      ],
      "metadata": {
        "id": "yVC1BwiyD0fx"
      },
      "execution_count": null,
      "outputs": []
    },
    {
      "cell_type": "code",
      "source": [
        "pd.DataFrame(data_U).plot(kind='density', xlim=(-10,30))"
      ],
      "metadata": {
        "id": "38jTDtHmBlNb"
      },
      "execution_count": null,
      "outputs": []
    },
    {
      "cell_type": "markdown",
      "source": [
        "**Mean and Variance**"
      ],
      "metadata": {
        "id": "yjvhDSdaQNFB"
      }
    },
    {
      "cell_type": "code",
      "source": [
        "uniform.mean(loc=0,scale=20)"
      ],
      "metadata": {
        "id": "uauq5dqvQMaq"
      },
      "execution_count": null,
      "outputs": []
    },
    {
      "cell_type": "code",
      "source": [
        "uniform.var(loc=0,scale=20)"
      ],
      "metadata": {
        "id": "8z_9OSLtQcAh"
      },
      "execution_count": null,
      "outputs": []
    },
    {
      "cell_type": "markdown",
      "source": [
        "\n",
        "\n",
        "Find the value for which cumuliative probability is 0.67"
      ],
      "metadata": {
        "id": "ZME_90etQARQ"
      }
    },
    {
      "cell_type": "code",
      "source": [
        "uniform.ppf(q=0.67,loc=0,scale=20)"
      ],
      "metadata": {
        "id": "oaFkbn4GQm1x"
      },
      "execution_count": null,
      "outputs": []
    },
    {
      "cell_type": "markdown",
      "source": [
        "What is the probability of a value being more than 13?"
      ],
      "metadata": {
        "id": "sgE_MhO4RdgL"
      }
    },
    {
      "cell_type": "code",
      "source": [
        "uniform.sf(x=13,loc=0,scale=20)"
      ],
      "metadata": {
        "id": "Y2M1-mlNQ9iw"
      },
      "execution_count": null,
      "outputs": []
    },
    {
      "cell_type": "markdown",
      "source": [
        "# **Binomial Distribution**"
      ],
      "metadata": {
        "id": "kDPw5NQlSAEl"
      }
    },
    {
      "cell_type": "code",
      "source": [
        "from scipy.stats import binom"
      ],
      "metadata": {
        "id": "ekIOn2vCVA7Z"
      },
      "execution_count": null,
      "outputs": []
    },
    {
      "cell_type": "markdown",
      "source": [
        "![image.png](data:image/png;base64,iVBORw0KGgoAAAANSUhEUgAAAVgAAAAzCAYAAADSKBBtAAAPsklEQVR4Ae2dL8gVzRfHDQaDQcFgMAgaDAaDwWAwCBoMBkGDwWBQMBgMIoLBIGIwGBQMBoPBYBAxGAwGg0HBYBAxGJ6gYDAYDPvy2d/v63veeWZ2Zndn/zx758Bl792dnTNz/nznzJnZvZuqQkUCRQJFAkUCg0hg0yC1lkqLBIoEigSKBKoCsMUIigSKBIoEBpJAAdiBBFuqLRIoEigSKAC7Ajbw58+f6vnz59WpU6eqly9fZunx69evqxMnTlRPnz6tqL9QkUCRwHoJFIBdL5NFnfn69Wt16NChatOmTdXOnTuzASxATX3Ue+DAgerTp0+LklvpTJFADgkUgM0hxZnW8ebNm2rr1q01CF66dKn6/ft31pZS39WrV+v64UM0W6hIoEjgXwkUgP1XFov6ZsH17t273r5R5tixYzVA7tmzp/ry5UtdjuPp06fr89u3b69u377tvV8nHz9+XJfdvHlzRZ2FigSKBP4ngVkB7M+fP6v3799n1Q1T5LW1tax1zr0y+rtt27Ya9C5cuOBt7oMHD6qDBw/WoHrt2rW6LED64cOHit8/fvyov5MC4CPw9VZWVf+JZJH50og889u3b5fWrcH7gz/j16tKswDY79+/Vzdu3KhBgYWTnMQUdsuWLdX58+erz58/56x6tnWdPXu2BsW9e/cG0wIAKB8IYAVEL168WIOr7ZgANhaZAkDkYinPYtpSiDTIo0ePKmS5Y8eOpXRrtH7gzwz2+Dd+vmo0OcAieACQD2CYe7TD8e/du1crmSnsuXPnql+/fi1Wz6zuCxQBhhQCWLmHNIElAFh1xSJY7nv27Nnf8rRjTHry5EndftpL2sMSUblSIfQ1leiPFvLOnDlTffv2LfXWUu7/EsCfFeTg4/h7CmFvskvSVC9evKhvwyaZYXEOXZPKGpKwHWZ68g/rB7RFbXR9R23qDbBENjCBgZyRzmPwMdICyZEjRwaPLlG0IruTJ08udmuR+kjElbp9SrpzdYZRo1P0mUrw5R7aMRbRbpwAg1fuWH3hnJyRdsXyyWoz29oYkHft2lXyyhJKjyOzx8OHD9e2gd83EZiCTXKUDTJACtAAOb6H7Lap7jbXAFd4cCSlhv3YAVqDNuf57qNeAGtzd3TYdlojjo8p51h4oWEY8FhTBwBHSiaSXRoxndWugcuXLyd1D2NFD3zQnyXpN2Q8tqy+w5e6aEfuXQvi4R7pgyILnBL+OAL9AXiVa+bI9RhRhvZ3XbTjfhyzjdxibVrCdfwcf0c/oYVX9dPVJ7KUTlWGc9SVOmjqvtQj9gO4iuCFXiHawsCNrvGTUBs6A6wQ3Q3Rlc+TgNQ4e9RUEgMee+GAaZ6mfbGR1LZ5I3yXXDGE1AcKFCEAPi5xrq0Bw5d7+Ey1bQveOAJOQB/cgcPtp/1NpEWulTru3LljL0W/42xyeu4vALteZPg7fo98sNcYMROhLB8XU2Sfmq3E6up7XboF4wBXC76hujsBLB1Vp1OYuMx3795d33/z5k330ii/BUTkhMaKnsfomNIDGHBqnllRKmBkCVCSjgGOVIKvHIhUzBQkx2sLrrRVMjx69Ghy011gldxCUU1yxQstiN8jI3AgRtglZZvs04dB6ER6SD3G9CVfSQVX+tYJYNVphcsxIdnrNsKZatGAVIGilFu3btnmbdjvNj1ATjuVNCq7UYA1UNXlRhA67x7hj1EzgKUCvVtHn99uHja1LgZb2kzb2dsbIxxb8uPIbEC+QR0xh43Vv9Tr+L1ALzbTAmMo66YcNfPimo+s/YpX7BjTl2btLtj7+Oucv3W6Gjhq0aANI1VFVENHyYVOSWzboh0po+iU7UzlzaKMDCh1pZa6dY8bBfBb1yiHcWHsKdNt+OvesdMEdkpJxNGGGGxpd+rAwIADsOLMIuvYMYfVPat41FpI0yzHzqJcu1M0ifzHIPxBuMfMKJVaA6wdOdyoJ8aUkUvTx1iSO1ZX3+uvXr36CwKxUbQvrzHuv3///t/+pOpFYIDh+EhGDLACFq6R++7hnAW5MWcI4isbbeN8zGq0ANPk9KE+67xkClAXgJVU1h+1yA0ehGay0qNvpqw00BgyFrjCS3zX98h/phXAwkgMFKHYI9ebyIJAm5eDUC/OAi+EbSMG8bNlKBcjHCr2tFOsjjldt1Hj2HtQXTnYvbhXrlxxL9e/if40lQfgcSZLgKVsTQBvr+s7dkFZgSuRNsQ92IEGBfjpu+61RwuM2GlXsvWM4fxd25lyXy4d+Xjh/8KOkLyRH2V8M2XdKyygrTkJ3vAFV7BPLeZzDt6yV2yqiXcciaqqBjR1qOkY66D2vVIHAJdC6qDl60ZcbpnUyEV7No8fP57SlFmXYduZZPTx48dJ2wp/tcW3Hc7VF2UVpWCwAl7VoaPA03ZOQEoZ64iKvrmHOgFr+IZIAE09zG660lIANqeOfLLE/6XX0G4eBVU+vYMB3I+8+WAHAlsfv7bnBKTwwHY0OCuqFuByxHZClASw9mZFFakgZu/laRgaTOSYSvCjE3RQIxp1aARh9EDYEgLH1NybFmP27duX2px15WQEtKnvp0/EwyAh/lO/CwD+aou74CbHxYDRqYCQ8hC6RodyFhk01wXCVgnono+rc+xC4Et9TeBKfcq/wqfP+zBot/reR5+2j2N/z62jUPs1gwQXfCQ5+nQHqEn32FJTFOmrO3YOO4S/sMeWl89jX03gyj2tABaHUKddg7YNCH1XYpvIMYUQmoCT8vwWfxkv122ZlHpVRoDPokZXkrDVrj5H9alLW/QeAPjPgSSH/fv3/6c5AJC1HfpMWZyF7z5dWhnndiQ1jpfiqM2hnKDKNh2XALBj6UgzyKkXvJv02fdaK2+0xhNDbl/DtIjgRjW+sqFzOCCOgNPhqDhmV6fjHalyqo2+H1YPT/AE0hxIT5TRriYSwBINoEtNxew96Fl6wgaHIF5KIh596rc+0mfA7NOG3PcOpSPNIMGFpVIrgJWgMcQuoKYdBH0A1job7ejjcHZhaOppdV8DEzjMZduZHiahXU1ko1Olfdzy1u766Nut1/6Ws8faa+/xfc8NsNJrjmNX2Q2lI8kcXFgqNVu/02sJmkijC8npiEK7EpGzjM2X/G5Tr10YmmJDfJu2xspKtn3SHTEeba5rw34M8LEl9IlthUj5MMr5ItzQfW3O84pF2VUfW1giwA6lI81GYzbSRo9zK9sKYCVoDL4LacTqI1AS3nKEvgCraWGbRbcu/R7jHv3vFrJJ3aExVLvsCnHTYGp12ZRykiP6Frly9UEvqUF+fWYzuQE2V/+61jOkjhQU9JnRdu3XWPclA6wVdNfckiLGPlMCG8HabTldBKZFNxaIupKieoF+n2NXudJ2PSHXFyC6ysHeZ3cRNG2Bs7oMpZzswmpffds2ut+18R35dZ1KU+fSAHZIHSll6NvK5+pno/5OBlgr6K4GaHOeXV6sLZDPFdFoBO3zLwpzAVi7Ct5nm1EOQ4a/Bpom5wEwKdcUmeawu5Q+8Uiv2pzylqdQnUsD2KF0hP9L3uDCUikZYCVohNI1D6Y/x6OOd+/etZIpPElR0A5SA1JOKPKJVU6eTXnC1Henxuqc8rodvOb0JNf169eDYgFY0WNT/lUDWFOZIIMWF+yg0PY1hZbN0gB2KB3h//LhlBfrWBlvpO/JAKuosSmnFus4o5ZArcnx3HoAV/iKtyJZFGTzsIBvaCXarbMP2Lt1zeE3fw8zF4O1sg29c8JO/UPgacGq66ypjW7Ys4sM++zLtG22+33btGMuZYfUEf6PrMGDLrPZucgo1o4kgLWCBsT6kKaysYcNyEcCqAJXolcbrWrBjRGWMppKAr4ppJylQDvlnjmXsY4devRwrPbbR6JDj53aJ7R8AItOpWN0Owbx320apLo+bCA7pJ6NbltD6kgPGYT+9XgMfY/BIwlgraD7GrudGjTlCjU1xFBxNBc4bcpCTpHaNpseePjw4RhyHoWHHuSY2rHhj054525oR4O7n9nOPNAjOueTqtMcAiaS0gMSocjb5cOgz+DGhz5pUJBNsuOGvqmMe/+cfw+lI5uOaZsqnLO8fG1LAli70dsFOl+lsXNywKY/xpOhArQ+nkQ4AmGi2DaOSI4NB2B71lj/GxWTSY7rdqvRVNMu+ApceOduiKQ7bIHBUrk+7uU75+yMJVRP7vOaYfF+ipT9sNY31O+mY+72DlnfUDrSv0ZMHQgMKTvVnQSwEjSgl4MYzRUpjB1BMmJqe0gbUM7R76HrQK5y7qn6Bl+1IZQeQA4q02dr2hDyXFtbqzR9bQoAhuA9tzqH0JHWCvD/sf+Pbwr5JgGsBN31AQNfx3jJNUBHkrspVeC7t+s5oittzUqdAnblNdV9ShM0RY9u2+zU1gU8preKLlNAW/8UQTtC6QE7EPB9bsS7SvVuh9C7SufW5tztGUJHvMYSYMXvl/CS+xSZRwGW6bkANsXBUpiqjFabccbcdYuHjoyWSk0sYVuW+uUelSYAIFLSH0zF+ZByEZBqam6dDBuIgSH8BExNMrbb7OA7RxIYEADwJ30pspxjP7q2KbeO2Ges4GbJ27JceUcBVolu0gNDOAPAarfH5I5mWQ1WzgfnZ6V4ycTfTmsrXEqUbkFT+UR0wsCKzpULBWBjBD/KwZ92hEjvFgDQ50ykk/SeXcBh7P8Xm1I2uXSEP+sReZ6YHDqQmlJmPt5Rr1FUY/eb+irqe46nZ1BE7rwX0QcATu4nNGXt2/a53a+/RWZAafMaRkWsOJcWn1L7RvpF0Wtsm5hdwEytf8pygAR2CciuCuXSEXLDr/lTzlWkIMASrRK9EJFwHItSVm7btGXVpnbIhj5rVtD0LgBXjugcfXfRufYVx1bfST+IB4P3ELMit1+5fue2zVztyl1PTh2tisxCOvACrKJWophVC+lDgtpo51kNV86LhafU6F2Ri/KwsX5Tr837NqUGqAt7EsByhJ/dAxvjV64PL4Gio3wy9gJsvupLTVNKgNVwIkqAjGlaDPw0Y6F8CuhRn175CJi3+afgKeVSeBcJjCWBArBjSXoiPkzRtHme7TGhFVzAlWhS0Yu7XcttPjlt7ScmzzbVgw1uu8rvIoE5SaAA7Jy0MWBb2E3B4pfd3E2kSipAkSs7B5R/s0/Z+J6kY4WdF3bEouIBu1SqLhKYvQQKwM5eRcM0UEAKyPKxuXbtFwZY+fB7Iy1GDSOxUmuRQHsJFIBtL7NF3AFwAqwsaFpwpXPkX7XYxZatAq6LUHnpxAQSKAA7gdALyyKBIoHVkEAB2NXQc+llkUCRwAQSKAA7gdALyyKBIoHVkEAB2NXQc+llkUCRwAQSKAA7gdALyyKBIoHVkEAB2NXQc+llkUCRwAQS+Ac7BA8+7hD4UgAAAABJRU5ErkJggg==)"
      ],
      "metadata": {
        "id": "XQgaeTdJSt4S"
      }
    },
    {
      "cell_type": "code",
      "source": [
        "#binom parameters are n, p & k\n",
        "# n = sample size\n",
        "# p = probability\n",
        "# k = event"
      ],
      "metadata": {
        "id": "naAaxFDXTjiw"
      },
      "execution_count": null,
      "outputs": []
    },
    {
      "cell_type": "markdown",
      "source": [
        "![image.png](data:image/png;base64,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)"
      ],
      "metadata": {
        "id": "AaVxKHsiUKmB"
      }
    },
    {
      "cell_type": "markdown",
      "source": [
        "**PMF**"
      ],
      "metadata": {
        "id": "-G_aup8CUa7j"
      }
    },
    {
      "cell_type": "code",
      "source": [
        "# probability of pollutant 0.1, probablity of 2 polluted samples in next 18 observations\n",
        "\n",
        "n= 18\n",
        "p= 0.1\n",
        "k = 2"
      ],
      "metadata": {
        "id": "_c7qBVl0UQNJ"
      },
      "execution_count": null,
      "outputs": []
    },
    {
      "cell_type": "code",
      "source": [
        "binom.pmf(k, n, p)"
      ],
      "metadata": {
        "id": "IQeV1tWnU-05"
      },
      "execution_count": null,
      "outputs": []
    },
    {
      "cell_type": "markdown",
      "source": [
        "**CDF**"
      ],
      "metadata": {
        "id": "9nhwGIZCWPhC"
      }
    },
    {
      "cell_type": "code",
      "source": [
        "#probability less than or equal to 4\n",
        "binom.cdf(4, n, p)"
      ],
      "metadata": {
        "id": "fjsP_CP4aIhF"
      },
      "execution_count": null,
      "outputs": []
    },
    {
      "cell_type": "code",
      "source": [
        "#probability at least 4\n",
        "1-binom.cdf(3, n, p)"
      ],
      "metadata": {
        "id": "GjVzdcNwWPLa"
      },
      "execution_count": null,
      "outputs": []
    },
    {
      "cell_type": "code",
      "source": [
        "binom.sf(3, n, p)"
      ],
      "metadata": {
        "id": "BA10epQMaolW"
      },
      "execution_count": null,
      "outputs": []
    },
    {
      "cell_type": "code",
      "source": [
        "#probability at least 3 but less than 7\n",
        "binom.cdf(6, n, p)-binom.cdf(2, n, p)"
      ],
      "metadata": {
        "id": "JohkEGmcXUza"
      },
      "execution_count": null,
      "outputs": []
    },
    {
      "cell_type": "markdown",
      "source": [
        "**Mean and variance**"
      ],
      "metadata": {
        "id": "Jnhdqa0CUHzr"
      }
    },
    {
      "cell_type": "code",
      "source": [
        "mean, var = binom.stats(n, p)\n",
        "print('mean is', mean, 'and variance is', var)"
      ],
      "metadata": {
        "id": "Ve_mRfA5ZVBp"
      },
      "execution_count": null,
      "outputs": []
    },
    {
      "cell_type": "markdown",
      "source": [
        "**Distribution**"
      ],
      "metadata": {
        "id": "zwcRp-F_nwwA"
      }
    },
    {
      "cell_type": "code",
      "source": [
        "n= 18\n",
        "p= 0.1\n",
        "# defining Success as getting polluted sample\n",
        "Success = list(range(n + 1))\n",
        "print('The number of heads or success possible', Success)"
      ],
      "metadata": {
        "id": "SbWB6lnInwen"
      },
      "execution_count": null,
      "outputs": []
    },
    {
      "cell_type": "code",
      "source": [
        "Binomial_dist_pmf = [binom.pmf(k, n, p) for k in Success ]\n",
        "print(Binomial_dist_pmf)"
      ],
      "metadata": {
        "id": "7wLODpZPoMbp"
      },
      "execution_count": null,
      "outputs": []
    },
    {
      "cell_type": "code",
      "source": [
        "plt.bar(Success, Binomial_dist_pmf)\n",
        "plt.xlabel('Samples')\n",
        "plt.ylabel('Probability')\n",
        "plt.show()"
      ],
      "metadata": {
        "id": "LGuShjQLoVbQ"
      },
      "execution_count": null,
      "outputs": []
    },
    {
      "cell_type": "markdown",
      "source": [
        "# **Geometric and Hypergeometric Distribution**"
      ],
      "metadata": {
        "id": "jaETzPvdbCd9"
      }
    },
    {
      "cell_type": "code",
      "source": [
        "from scipy.stats import geom"
      ],
      "metadata": {
        "id": "PSUSPtRmfLYo"
      },
      "execution_count": null,
      "outputs": []
    },
    {
      "cell_type": "markdown",
      "source": [
        "**Geometric**\n",
        "\n",
        "Probability of getting 1st success in k trials. p is the probabily for getting success single trial."
      ],
      "metadata": {
        "id": "dXEkrwtWd_wO"
      }
    },
    {
      "cell_type": "markdown",
      "source": [
        "![image.png](data:image/png;base64,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)"
      ],
      "metadata": {
        "id": "fN77u6XKbqXe"
      }
    },
    {
      "cell_type": "code",
      "source": [
        "# pobability of a wafer cotaining impuritiy 0.01\n",
        "# What is the probability that 125 wafers needs to be checked before getting first impurity\n",
        "p= 0.01\n",
        "k=125\n",
        "geom.pmf(k,p)"
      ],
      "metadata": {
        "colab": {
          "base_uri": "https://localhost:8080/"
        },
        "id": "K-pfnhOZegj_",
        "outputId": "0488cdfd-4feb-41f4-f395-d9ff40120ac3"
      },
      "execution_count": null,
      "outputs": [
        {
          "output_type": "execute_result",
          "data": {
            "text/plain": [
              "0.002875836093668641"
            ]
          },
          "metadata": {},
          "execution_count": 220
        }
      ]
    },
    {
      "cell_type": "markdown",
      "source": [
        "If we look for any number of success we have to go to hypergeomeric"
      ],
      "metadata": {
        "id": "XXVhYM1afoAx"
      }
    },
    {
      "cell_type": "markdown",
      "source": [
        "**Hypergeometric**"
      ],
      "metadata": {
        "id": "vNcOkLbrf79Q"
      }
    },
    {
      "cell_type": "markdown",
      "source": [
        "![image.png](data:image/png;base64,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)"
      ],
      "metadata": {
        "id": "skU7sqT_d3D_"
      }
    },
    {
      "cell_type": "markdown",
      "source": [
        "**Hypergeometric**\n",
        "\n",
        "M is the total number of objects, n is total number of Type I objects. N drawn without replacement from the total population. k is the event"
      ],
      "metadata": {
        "id": "HfZsuLMFcpJO"
      }
    },
    {
      "cell_type": "markdown",
      "source": [
        "![image.png](data:image/png;base64,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)"
      ],
      "metadata": {
        "id": "QuB0MDSoiWRi"
      }
    },
    {
      "cell_type": "code",
      "source": [
        "from scipy.stats import hypergeom"
      ],
      "metadata": {
        "id": "TgcEJKdIgPr4"
      },
      "execution_count": null,
      "outputs": []
    },
    {
      "cell_type": "code",
      "source": [
        "#probability of all from local supplier , k= 4\n",
        "\n",
        "hypergeom.pmf(k=4,M=300,n=100,N=4)"
      ],
      "metadata": {
        "id": "i6FTBYDsgM-6"
      },
      "execution_count": null,
      "outputs": []
    },
    {
      "cell_type": "code",
      "source": [
        "#probability of two or more parts from the local supplier\n",
        "\n",
        "hypergeom.sf(k=1,M=300,n=100,N=4)"
      ],
      "metadata": {
        "id": "_pPxi2i8h2sN"
      },
      "execution_count": null,
      "outputs": []
    },
    {
      "cell_type": "code",
      "source": [
        "#probability of at least one part from local supplier\n",
        "hypergeom.sf(k=0,M=300,n=100,N=4)"
      ],
      "metadata": {
        "id": "1TWR3Sihh8Jt"
      },
      "execution_count": null,
      "outputs": []
    },
    {
      "cell_type": "markdown",
      "source": [
        "**Mean and variance**\n"
      ],
      "metadata": {
        "id": "JsM4mG_CgH5Q"
      }
    },
    {
      "cell_type": "code",
      "source": [
        "mean, var = hypergeom.stats(M=300,n=100,N=4)\n",
        "print('mean is', mean, 'and variance is', var)"
      ],
      "metadata": {
        "id": "AwOlf4dDjmTj"
      },
      "execution_count": null,
      "outputs": []
    },
    {
      "cell_type": "markdown",
      "source": [
        "**Distribution**"
      ],
      "metadata": {
        "id": "cQX_Wklookk4"
      }
    },
    {
      "cell_type": "code",
      "source": [
        "M = 10\n",
        "n = 5\n",
        "N= 5\n",
        "# defining Success as getting a Heads\n",
        "trials = list(range(0,N+1))\n",
        "print('The number successes in a draring N', trials)"
      ],
      "metadata": {
        "id": "dRSGI0AvokWp"
      },
      "execution_count": null,
      "outputs": []
    },
    {
      "cell_type": "code",
      "source": [
        "plt.plot(trials, hypergeom.pmf(trials, M, n, N), 'bo', ms=8, label='hypergeom pmf')\n",
        "plt.vlines(trials,0, hypergeom.pmf(trials, M, n, N), colors='b', lw=5, alpha=0.5)"
      ],
      "metadata": {
        "id": "zV5RnbngqBFy"
      },
      "execution_count": null,
      "outputs": []
    },
    {
      "cell_type": "markdown",
      "source": [
        "# **Poisson Distribution: Mean and variance are the same**"
      ],
      "metadata": {
        "id": "pvsYtkLHj7Kl"
      }
    },
    {
      "cell_type": "markdown",
      "source": [
        "**Mean and variance**"
      ],
      "metadata": {
        "id": "t5yFerMCk5IA"
      }
    },
    {
      "cell_type": "code",
      "source": [
        "# Poisson distribution has only one parameter that is mean or mu"
      ],
      "metadata": {
        "id": "_G-_uhMclh2l"
      },
      "execution_count": null,
      "outputs": []
    },
    {
      "cell_type": "markdown",
      "source": [
        "![image.png](data:image/png;base64,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)"
      ],
      "metadata": {
        "id": "PaE3suq3mbOX"
      }
    },
    {
      "cell_type": "markdown",
      "source": [
        "![image.png](data:image/png;base64,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)"
      ],
      "metadata": {
        "id": "emrHJ1fMmvx2"
      }
    },
    {
      "cell_type": "markdown",
      "source": [
        "![image.png](data:image/png;base64,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)"
      ],
      "metadata": {
        "id": "4sF5Y4iqkB0T"
      }
    },
    {
      "cell_type": "code",
      "source": [
        "from scipy.stats import poisson"
      ],
      "metadata": {
        "id": "3sxKZ1F8khes"
      },
      "execution_count": null,
      "outputs": []
    },
    {
      "cell_type": "code",
      "source": [
        "x = list(range(6+1))\n",
        "x"
      ],
      "metadata": {
        "id": "18-4_ogdqxWy"
      },
      "execution_count": null,
      "outputs": []
    },
    {
      "cell_type": "code",
      "source": [
        "mu=4"
      ],
      "metadata": {
        "id": "GfOyaUburLRK"
      },
      "execution_count": null,
      "outputs": []
    },
    {
      "cell_type": "code",
      "source": [
        "poisson_dist_pmf = [poisson.pmf(x,mu) ]\n",
        "print(poisson_dist_pmf)"
      ],
      "metadata": {
        "id": "sb-5XHODq-ZV"
      },
      "execution_count": null,
      "outputs": []
    },
    {
      "cell_type": "code",
      "source": [
        "plt.plot(x, poisson.pmf(x,mu), 'bo', ms=8, label='geom pmf')\n",
        "plt.vlines(x,0, poisson.pmf(x,mu), colors='b', lw=5, alpha=0.5)"
      ],
      "metadata": {
        "id": "wtpQTw5urSQK"
      },
      "execution_count": null,
      "outputs": []
    },
    {
      "cell_type": "code",
      "source": [
        "#In some problems lamda (Average per unit) is given. We need to find the sample mean first by multiplying the sample size"
      ],
      "metadata": {
        "id": "GuPxR8Ir_TUK"
      },
      "execution_count": null,
      "outputs": []
    },
    {
      "cell_type": "markdown",
      "source": [
        "![image.png](data:image/png;base64,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)"
      ],
      "metadata": {
        "id": "olSZGyjMkdgE"
      }
    },
    {
      "cell_type": "code",
      "source": [
        "lamda=2.3\n",
        "T=5\n",
        "mu=lamda*T\n",
        "poisson.pmf(10,mu)"
      ],
      "metadata": {
        "id": "q3ydQSzXm-X-"
      },
      "execution_count": null,
      "outputs": []
    },
    {
      "cell_type": "markdown",
      "source": [
        "Another example: Find the probability of at least 1 flaw in 2 mm of wire"
      ],
      "metadata": {
        "id": "hxcTnBFC83D4"
      }
    },
    {
      "cell_type": "code",
      "source": [
        "lamda=2.3\n",
        "T=2\n",
        "mu=lamda*T\n",
        "poisson.sf(0,mu)"
      ],
      "metadata": {
        "id": "ArymA16PnfJ_"
      },
      "execution_count": null,
      "outputs": []
    }
  ]
}