{
  "nbformat": 4,
  "nbformat_minor": 0,
  "metadata": {
    "colab": {
      "provenance": [],
      "authorship_tag": "ABX9TyNh077D/nqD4NducV9m79Ie",
      "include_colab_link": true
    },
    "kernelspec": {
      "name": "python3",
      "display_name": "Python 3"
    },
    "language_info": {
      "name": "python"
    }
  },
  "cells": [
    {
      "cell_type": "markdown",
      "metadata": {
        "id": "view-in-github",
        "colab_type": "text"
      },
      "source": [
        "<a href=\"https://colab.research.google.com/github/KhmAsif/IMSE441Spring24/blob/main/Midterm_1(your_initial).ipynb\" target=\"_parent\"><img src=\"https://colab.research.google.com/assets/colab-badge.svg\" alt=\"Open In Colab\"/></a>"
      ]
    },
    {
      "cell_type": "markdown",
      "source": [
        "**Question 1: (8 points)**\n",
        "\n",
        "a) Import the data \"Movie_data.csv\" and perform descriptive statistics on numerical columns\n",
        "\n",
        "b) Plot a histogram to show the variability in Runtime. Interprete the plot.\n",
        "\n",
        "c) Construct boxplots to compare the IMDb(A Movie rating website) rating among different genres.Interprete the plots.\n",
        "\n",
        "d) Plot a pie chart to show Rotten Tomatoes(A Movie rating website) mean rating variation among  different genres. Interprete the pie chart."
      ],
      "metadata": {
        "id": "BJxuCzGoorvW"
      }
    },
    {
      "cell_type": "code",
      "source": [
        "Movie=pd.read_csv(\"https://raw.githubusercontent.com/KhmAsif/IMSE441Spring24/main/Movie_data.csv\")\n",
        "Movie['Rotten_Tomatoes']=Movie['Rotten_Tomatoes'].str.rstrip('%')\n",
        "Movie['Rotten_Tomatoes']=Movie['Rotten_Tomatoes'].astype(float)"
      ],
      "metadata": {
        "id": "Kr41UeVt-XsI"
      },
      "execution_count": null,
      "outputs": []
    },
    {
      "cell_type": "markdown",
      "source": [
        "**Question 2 (12 points)**\n",
        "\n",
        "a) Suppose adventure movies have 75% chance of getting 8 or higher IMDb rating (Being a hit). If a production house choose to make 10 movies what is the probability that 5 of them will be a hit?\n",
        "\n",
        "b) Suppose a group of five friends are deciding on what movie to watch on a weekend. Consider for this question that they only have adventure and comedy movies form the data table. If each of them pick one movie independently, what is the probability that 3 of them will choose adventure movies.\n",
        "\n",
        "c) Suppose the runtime of movies follow a poisson distribution. The mean runtime is 110 minutes. What is the probability that a movie will have runtime of 1 hour 30 minutes."
      ],
      "metadata": {
        "id": "YKFTiu3BzJnO"
      }
    },
    {
      "cell_type": "code",
      "source": [],
      "metadata": {
        "id": "vcmv4EWd-XMP"
      },
      "execution_count": null,
      "outputs": []
    },
    {
      "cell_type": "markdown",
      "source": [
        "**Question 3: (12 Points)**\n",
        "\n",
        "A laptop company claims up to 9 hours of wireless web usage for its newest laptop battery life. However, reviews on this laptop shows many complaints about low battery life. A survey on battery life reported by customers shows that it follows a normal distribution with mean 7.5 hours and standard deviation 30 minutes.\n",
        "\n",
        "a) Plot the probability distribution with suitable range\n",
        "\n",
        "b) What is the probability that the battery life is at least 8.5 hours?\n",
        "\n",
        "c) What is the probability that the battery life is less than 6 hours?\n",
        "\n",
        "d) What is the time of use that is exceeded with probability 0.85?\n",
        "\n",
        "\n"
      ],
      "metadata": {
        "id": "kPN6WktK2Tfi"
      }
    },
    {
      "cell_type": "code",
      "source": [],
      "metadata": {
        "id": "XZpkUJfL-WfY"
      },
      "execution_count": null,
      "outputs": []
    },
    {
      "cell_type": "markdown",
      "source": [
        "**Question 4: (8 Points)**\n",
        "\n",
        "Suppose you are surveying the performance of promotional advertisement for a product which follows an exponential distribution. The average number of minutes between apperances on a certain TV channel is 21 minutes.\n",
        "\n",
        "a) What is the probability that you'll have to wait less than 10 minutes for an appearance?\n",
        "\n",
        "b) What is the probability of getting at least 5 appearance in next 2 hours?"
      ],
      "metadata": {
        "id": "RdJ8WZkf6-x0"
      }
    },
    {
      "cell_type": "code",
      "source": [],
      "metadata": {
        "id": "x9yjIPclzAN0"
      },
      "execution_count": null,
      "outputs": []
    }
  ]
}