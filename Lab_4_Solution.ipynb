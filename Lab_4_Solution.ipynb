{
  "nbformat": 4,
  "nbformat_minor": 0,
  "metadata": {
    "colab": {
      "provenance": [],
      "authorship_tag": "ABX9TyO+twvgCqjwKxlKBDJn15l1",
      "include_colab_link": true
    },
    "kernelspec": {
      "name": "python3",
      "display_name": "Python 3"
    },
    "language_info": {
      "name": "python"
    }
  },
  "cells": [
    {
      "cell_type": "markdown",
      "metadata": {
        "id": "view-in-github",
        "colab_type": "text"
      },
      "source": [
        "<a href=\"https://colab.research.google.com/github/KhmAsif/IMSE441Spring24/blob/main/Lab_4_Solution.ipynb\" target=\"_parent\"><img src=\"https://colab.research.google.com/assets/colab-badge.svg\" alt=\"Open In Colab\"/></a>"
      ]
    },
    {
      "cell_type": "code",
      "source": [
        "from scipy.stats import norm"
      ],
      "metadata": {
        "id": "4t7QWiLsmYXl"
      },
      "execution_count": null,
      "outputs": []
    },
    {
      "cell_type": "markdown",
      "source": [
        "**Question 1**"
      ],
      "metadata": {
        "id": "hl8HE2H_m6UV"
      }
    },
    {
      "cell_type": "code",
      "source": [
        "#(a) P(-0.7 < Z < 0.7)\n",
        "a=norm.cdf(0.7,0,1)-norm.cdf(-.7,0,1)\n",
        "print(a)"
      ],
      "metadata": {
        "colab": {
          "base_uri": "https://localhost:8080/"
        },
        "id": "2QNXTGlbm1dN",
        "outputId": "ced0b4d7-9b2f-485b-d757-41a895686d3b"
      },
      "execution_count": null,
      "outputs": [
        {
          "output_type": "stream",
          "name": "stdout",
          "text": [
            "0.5160726955538539\n"
          ]
        }
      ]
    },
    {
      "cell_type": "code",
      "source": [
        "#(b) P(-2.34 < Z < 1.76)\n",
        "b=norm.cdf(1.76,0,1)-norm.cdf(-2.34,0,1)\n",
        "print(b)"
      ],
      "metadata": {
        "colab": {
          "base_uri": "https://localhost:8080/"
        },
        "id": "N_h81iSvnXJ_",
        "outputId": "2414ebe8-f32a-4362-aa7a-cb23253c8272"
      },
      "execution_count": null,
      "outputs": [
        {
          "output_type": "stream",
          "name": "stdout",
          "text": [
            "0.951154226767159\n"
          ]
        }
      ]
    },
    {
      "cell_type": "code",
      "source": [
        "#c) P(Z > 2.15)\n",
        "c=norm.sf(2.15,0,1)\n",
        "print(c)"
      ],
      "metadata": {
        "colab": {
          "base_uri": "https://localhost:8080/"
        },
        "id": "wWyaB3d2n0Oh",
        "outputId": "6a7749f7-9a8a-40ec-dda0-5b290bdb2e7b"
      },
      "execution_count": null,
      "outputs": [
        {
          "output_type": "stream",
          "name": "stdout",
          "text": [
            "0.0157776073910905\n"
          ]
        }
      ]
    },
    {
      "cell_type": "markdown",
      "source": [
        "**Question 2**"
      ],
      "metadata": {
        "id": "k4IjreHOoFtR"
      }
    },
    {
      "cell_type": "code",
      "source": [
        "#Assume that X is normally distributed with a mean of 7 and a standard deviation of 4. Determine the value for x that solves each of the following equations\n",
        "#(a) P(X > x) = 0.5\n",
        "a = norm.ppf(0.5,7,4)\n",
        "print(a)"
      ],
      "metadata": {
        "colab": {
          "base_uri": "https://localhost:8080/"
        },
        "id": "Tbpzlxw7oJLJ",
        "outputId": "49279f05-83c0-4a1d-d19c-2b1fac4f1c33"
      },
      "execution_count": null,
      "outputs": [
        {
          "output_type": "stream",
          "name": "stdout",
          "text": [
            "7.0\n"
          ]
        }
      ]
    },
    {
      "cell_type": "code",
      "execution_count": null,
      "metadata": {
        "colab": {
          "base_uri": "https://localhost:8080/"
        },
        "id": "tCfWVVxMh0-_",
        "outputId": "42e0fcec-313a-4027-e46d-8a46a876c1df"
      },
      "outputs": [
        {
          "output_type": "execute_result",
          "data": {
            "text/plain": [
              "10.303317214195602"
            ]
          },
          "metadata": {},
          "execution_count": 5
        }
      ],
      "source": [
        "#(b) P(-x < X-7 < x) = 0.99\n",
        "x_value= norm.ppf(0.995, 7, 4)-7\n",
        "x_value"
      ]
    },
    {
      "cell_type": "markdown",
      "source": [
        "**Question 3**\n",
        "\n",
        "A credit card company monitors cardholder transaction habits to detect any unusual activity. Suppose that the dollar value of unusual activity for a customer in a month follows a normal distribution with mean $250 and variance 391"
      ],
      "metadata": {
        "id": "P3EyiKpTpJGr"
      }
    },
    {
      "cell_type": "code",
      "source": [
        "import math"
      ],
      "metadata": {
        "id": "5rX9adoXyl3q"
      },
      "execution_count": null,
      "outputs": []
    },
    {
      "cell_type": "code",
      "source": [
        "st=math.sqrt(391)"
      ],
      "metadata": {
        "id": "veFUJTZEyoua"
      },
      "execution_count": null,
      "outputs": []
    },
    {
      "cell_type": "code",
      "source": [
        "#(a) What is the probability of $250 to $300 in unusual activity in a month?\n",
        "a=norm.cdf(300,250,st)-norm.cdf(250,250,st)\n",
        "print(a)"
      ],
      "metadata": {
        "colab": {
          "base_uri": "https://localhost:8080/"
        },
        "id": "vEB_UJJymsRl",
        "outputId": "f79d8e58-f155-4236-806d-5384d7a45f55"
      },
      "execution_count": null,
      "outputs": [
        {
          "output_type": "stream",
          "name": "stdout",
          "text": [
            "0.4942742187986622\n"
          ]
        }
      ]
    },
    {
      "cell_type": "code",
      "source": [
        "#(b) What is the probability of more than $300 in unusual activity in a month?\n",
        "b=norm.sf(300,250,st)\n",
        "print(b)"
      ],
      "metadata": {
        "colab": {
          "base_uri": "https://localhost:8080/"
        },
        "id": "b7C-lPzPqKm-",
        "outputId": "6be91ca1-0f17-49cf-a0c3-b1fd8ff3cf82"
      },
      "execution_count": null,
      "outputs": [
        {
          "output_type": "stream",
          "name": "stdout",
          "text": [
            "0.005725781201337806\n"
          ]
        }
      ]
    },
    {
      "cell_type": "markdown",
      "source": [
        "**Question 4**\n",
        "\n",
        "Suppose that X has a Poisson distribution with a mean of 70. Approximate the following probabilities"
      ],
      "metadata": {
        "id": "Xp_jTQ9gqVf1"
      }
    },
    {
      "cell_type": "code",
      "source": [
        "from scipy.stats import poisson"
      ],
      "metadata": {
        "id": "Jbfl1D5Bqf6J"
      },
      "execution_count": null,
      "outputs": []
    },
    {
      "cell_type": "code",
      "source": [
        "#(a) P(X > 78)\n",
        "a=poisson.sf(78,mu=70)\n",
        "print(a)"
      ],
      "metadata": {
        "colab": {
          "base_uri": "https://localhost:8080/"
        },
        "id": "Hcqg_89Aqx3W",
        "outputId": "af5dbc77-5535-4de7-9dfc-558ed16d6a8a"
      },
      "execution_count": null,
      "outputs": [
        {
          "output_type": "stream",
          "name": "stdout",
          "text": [
            "0.15483244399886156\n"
          ]
        }
      ]
    },
    {
      "cell_type": "code",
      "source": [
        "#(b) P(X < 70)\n",
        "b=poisson.cdf(70,mu=70)\n",
        "print(b)"
      ],
      "metadata": {
        "colab": {
          "base_uri": "https://localhost:8080/"
        },
        "id": "mVlvblI0rTcP",
        "outputId": "45e75988-b161-411d-c5fc-35af940331d8"
      },
      "execution_count": null,
      "outputs": [
        {
          "output_type": "stream",
          "name": "stdout",
          "text": [
            "0.5317305296811751\n"
          ]
        }
      ]
    },
    {
      "cell_type": "code",
      "source": [
        "#(c) P(66 < X <= 74)\n",
        "c=poisson.cdf(74,mu=70)-poisson.cdf(66,mu=70)\n",
        "print(c)"
      ],
      "metadata": {
        "colab": {
          "base_uri": "https://localhost:8080/"
        },
        "id": "v0ChgrFHrfB_",
        "outputId": "5a6bed44-b937-4ced-87f5-104562a590d4"
      },
      "execution_count": null,
      "outputs": [
        {
          "output_type": "stream",
          "name": "stdout",
          "text": [
            "0.36559146459923186\n"
          ]
        }
      ]
    },
    {
      "cell_type": "markdown",
      "source": [
        "**Question 5**\n",
        "\n",
        "Among homeowners in a metropolitan area, 75% recycle plastic bottles each week. A waste management company services 1700 homeowners (assumed independent). Approximate the following probabilities."
      ],
      "metadata": {
        "id": "PiQ1IpQSsGEK"
      }
    },
    {
      "cell_type": "code",
      "source": [
        "from scipy.stats import binom"
      ],
      "metadata": {
        "id": "UvjdG97EsR3z"
      },
      "execution_count": null,
      "outputs": []
    },
    {
      "cell_type": "code",
      "source": [
        "#(a) At least 1300 recycle plastic bottles in a week.\n",
        "a= binom.sf(1299,p=0.75, n=1700)\n",
        "print(a)"
      ],
      "metadata": {
        "colab": {
          "base_uri": "https://localhost:8080/"
        },
        "id": "J4Q14AbesFaK",
        "outputId": "67c1eb29-bf8c-4ee2-d38b-6eb92f71ac6c"
      },
      "execution_count": null,
      "outputs": [
        {
          "output_type": "stream",
          "name": "stdout",
          "text": [
            "0.0843223954925866\n"
          ]
        }
      ]
    },
    {
      "cell_type": "code",
      "source": [
        "#(b) Between 1225 and 1325 recycle plastic bottles in a week.\n",
        "b= binom.cdf(1325,p=0.75,n=1700)-binom.cdf(1225,p=0.75,n=1700)\n",
        "print(b)"
      ],
      "metadata": {
        "colab": {
          "base_uri": "https://localhost:8080/"
        },
        "id": "sgJWxW-uspRx",
        "outputId": "40ebd748-66e3-4583-a6da-62c4c8ee941b"
      },
      "execution_count": null,
      "outputs": [
        {
          "output_type": "stream",
          "name": "stdout",
          "text": [
            "0.9948634084177241\n"
          ]
        }
      ]
    },
    {
      "cell_type": "markdown",
      "source": [
        "**Question 6**\n",
        "\n",
        "Human behavior can sometimes be modeled as a Poisson process. Suppose when you send a tweet in Twitter, the retweets follow a Poisson process, and the mean time between retweets is 7 minutes."
      ],
      "metadata": {
        "id": "pE1tFvPEtO1S"
      }
    },
    {
      "cell_type": "code",
      "source": [
        "from scipy.stats import expon"
      ],
      "metadata": {
        "id": "CFKio7d4tdBF"
      },
      "execution_count": null,
      "outputs": []
    },
    {
      "cell_type": "code",
      "source": [
        "#(a) What is the probability that a retweet occurs in less than 8 minutes after you send your tweet?\n",
        "a=expon.cdf(8,scale=7)\n",
        "print(a)"
      ],
      "metadata": {
        "colab": {
          "base_uri": "https://localhost:8080/"
        },
        "id": "uDrqK5Y_tOTC",
        "outputId": "34d23a25-af8c-4bb8-f916-7c2bc75676c3"
      },
      "execution_count": null,
      "outputs": [
        {
          "output_type": "stream",
          "name": "stdout",
          "text": [
            "0.6810934426760296\n"
          ]
        }
      ]
    },
    {
      "cell_type": "code",
      "source": [
        "#(b) How many retweets would you expect after 22 hours?\n",
        "b=22*60/7\n",
        "print(b)"
      ],
      "metadata": {
        "colab": {
          "base_uri": "https://localhost:8080/"
        },
        "id": "hYKTH_TgtzsP",
        "outputId": "e1dd6a10-f688-41f3-b38b-e5cd527bd178"
      },
      "execution_count": null,
      "outputs": [
        {
          "output_type": "stream",
          "name": "stdout",
          "text": [
            "188.57142857142858\n"
          ]
        }
      ]
    }
  ]
}